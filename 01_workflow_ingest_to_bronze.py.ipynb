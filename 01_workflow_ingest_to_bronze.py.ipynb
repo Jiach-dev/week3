{
 "cells": [
  {
   "cell_type": "code",
   "execution_count": 0,
   "metadata": {
    "application/vnd.databricks.v1+cell": {
     "cellMetadata": {},
     "inputWidgets": {},
     "nuid": "4e7a1b89-75a4-4253-84b3-4690d2077ca0",
     "showTitle": false,
     "tableResultSettingsMap": {},
     "title": ""
    }
   },
   "outputs": [],
   "source": [
    "# Parameters\n",
    "dbutils.widgets.text(\"input_file_name\", \"\")\n",
    "\n",
    "# Read input file\n",
    "input_path = dbutils.widgets.get(\"input_file_name\")\n",
    "raw_df = spark.read.parquet(input_path)\n",
    "\n",
    "# Add metadata columns\n",
    "from pyspark.sql.functions import current_timestamp, input_file_name\n",
    "bronze_df = raw_df.withColumn(\"input_file_name\", input_file_name()) \\\n",
    "                  .withColumn(\"ingestion_timestamp\", current_timestamp())\n",
    "\n",
    "# Write to Delta with merge\n",
    "bronze_df.createOrReplaceTempView(\"updates\")\n",
    "\n",
    "spark.sql(\"\"\"\n",
    "  MERGE INTO bronze_nyc_taxi target\n",
    "  USING updates source\n",
    "  ON source.VendorID = target.VendorID \n",
    "    AND source.tpep_pickup_datetime = target.tpep_pickup_datetime\n",
    "    AND source.tpep_dropoff_datetime = target.tpep_dropoff_datetime\n",
    "  WHEN NOT MATCHED THEN INSERT *\n",
    "\"\"\")"
   ]
  }
 ],
 "metadata": {
  "application/vnd.databricks.v1+notebook": {
   "computePreferences": null,
   "dashboards": [],
   "environmentMetadata": {
    "base_environment": "",
    "environment_version": "2"
   },
   "inputWidgetPreferences": null,
   "language": "python",
   "notebookMetadata": {
    "pythonIndentUnit": 4
   },
   "notebookName": "01_workflow_ingest_to_bronze.py",
   "widgets": {}
  },
  "language_info": {
   "name": "python"
  }
 },
 "nbformat": 4,
 "nbformat_minor": 0
}
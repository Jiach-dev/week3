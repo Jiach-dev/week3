{
 "cells": [
  {
   "cell_type": "code",
   "execution_count": 0,
   "metadata": {
    "application/vnd.databricks.v1+cell": {
     "cellMetadata": {},
     "inputWidgets": {},
     "nuid": "e8370c5c-c885-4e2c-be38-aca7d22225bb",
     "showTitle": false,
     "tableResultSettingsMap": {},
     "title": ""
    }
   },
   "outputs": [],
   "source": [
    "from pyspark.sql.functions import *\n",
    "\n",
    "# Read cleaned data from Silver\n",
    "silver_df = spark.table(\"silver_nyc_taxi\")\n",
    "\n",
    "# Daily location aggregates\n",
    "daily_location = silver_df.groupBy(\n",
    "    to_date(\"pickup_datetime\").alias(\"report_date\"),\n",
    "    \"pickup_location_id\"\n",
    ").agg(\n",
    "    count(\"*\").alias(\"total_trips\"),\n",
    "    avg(\"fare_amount\").alias(\"avg_fare_amount\"),\n",
    "    avg(\"trip_duration_min\").alias(\"avg_trip_duration\")\n",
    ")\n",
    "\n",
    "# Write to Gold with merge\n",
    "daily_location.createOrReplaceTempView(\"updates\")\n",
    "\n",
    "spark.sql(\"\"\"\n",
    "  MERGE INTO gold_daily_location target\n",
    "  USING updates source\n",
    "  ON source.report_date = target.report_date\n",
    "    AND source.pickup_location_id = target.pickup_location_id\n",
    "  WHEN MATCHED THEN UPDATE SET *\n",
    "  WHEN NOT MATCHED THEN INSERT *\n",
    "\"\"\")"
   ]
  }
 ],
 "metadata": {
  "application/vnd.databricks.v1+notebook": {
   "computePreferences": null,
   "dashboards": [],
   "environmentMetadata": {
    "base_environment": "",
    "environment_version": "2"
   },
   "inputWidgetPreferences": null,
   "language": "python",
   "notebookMetadata": {
    "pythonIndentUnit": 4
   },
   "notebookName": "03_workflow_aggregate_to_gold.py",
   "widgets": {}
  },
  "language_info": {
   "name": "python"
  }
 },
 "nbformat": 4,
 "nbformat_minor": 0
}